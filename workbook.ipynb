{
 "cells": [
  {
   "cell_type": "code",
   "execution_count": null,
   "id": "3e91661e",
   "metadata": {},
   "outputs": [],
   "source": [
    "import sys\n",
    "import pandas as pd\n",
    "import warnings\n",
    "warnings.filterwarnings(\"ignore\")\n",
    "sys.path.append(r'C:\\Users\\User\\Desktop\\Python for analysis')"
   ]
  },
  {
   "cell_type": "code",
   "execution_count": null,
   "id": "aa2f4cf8",
   "metadata": {},
   "outputs": [],
   "source": [
    "from analysis import Analysis"
   ]
  },
  {
   "cell_type": "code",
   "execution_count": null,
   "id": "eb1a243b",
   "metadata": {},
   "outputs": [],
   "source": [
    "df = pd.read_excel(\"big offer for python.xlsx\")"
   ]
  },
  {
   "cell_type": "code",
   "execution_count": null,
   "id": "c9cea81a",
   "metadata": {},
   "outputs": [],
   "source": [
    "basef = pd.read_excel(\"Base Format for Profit Check.xlsx\")"
   ]
  },
  {
   "cell_type": "code",
   "execution_count": null,
   "id": "862b9f74",
   "metadata": {},
   "outputs": [],
   "source": [
    "analize = Analysis(df=df, base_format=basef, delete_brands=True, exception_brands=[\"Viktor & Rolf\"], lindo=False)"
   ]
  },
  {
   "cell_type": "code",
   "execution_count": null,
   "id": "582e9bbf",
   "metadata": {},
   "outputs": [],
   "source": [
    "analize.start()"
   ]
  }
 ],
 "metadata": {
  "kernelspec": {
   "display_name": "Python 3 (ipykernel)",
   "language": "python",
   "name": "python3"
  },
  "language_info": {
   "codemirror_mode": {
    "name": "ipython",
    "version": 3
   },
   "file_extension": ".py",
   "mimetype": "text/x-python",
   "name": "python",
   "nbconvert_exporter": "python",
   "pygments_lexer": "ipython3",
   "version": "3.10.13"
  }
 },
 "nbformat": 4,
 "nbformat_minor": 5
}

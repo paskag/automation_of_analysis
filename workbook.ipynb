{
 "cells": [
  {
   "cell_type": "code",
   "execution_count": null,
   "id": "3e91661e",
   "metadata": {},
   "outputs": [],
   "source": [
    "from analysis import Analysis"
   ]
  },
  {
   "cell_type": "code",
   "execution_count": null,
   "id": "aa2f4cf8",
   "metadata": {},
   "outputs": [],
   "source": [
    "import pandas as pd"
   ]
  },
  {
   "cell_type": "code",
   "execution_count": null,
   "id": "eb1a243b",
   "metadata": {},
   "outputs": [],
   "source": [
    "df = pd.read_excel(\"big offer for python.xlsx\")"
   ]
  },
  {
   "cell_type": "code",
   "execution_count": null,
   "id": "c9cea81a",
   "metadata": {},
   "outputs": [],
   "source": [
    "basef = pd.read_excel(\"Base Format for Profit Check.xlsx\")"
   ]
  },
  {
   "cell_type": "code",
   "execution_count": null,
   "id": "862b9f74",
   "metadata": {},
   "outputs": [],
   "source": [
    "anal = Analysis(df=df, base_format=basef, delete_brands=True)"
   ]
  },
  {
   "cell_type": "code",
   "execution_count": null,
   "id": "582e9bbf",
   "metadata": {},
   "outputs": [],
   "source": [
    "anal.start()"
   ]
  }
 ],
 "metadata": {
  "kernelspec": {
   "display_name": "Python 3 (ipykernel)",
   "language": "python",
   "name": "python3"
  },
  "language_info": {
   "codemirror_mode": {
    "name": "ipython",
    "version": 3
   },
   "file_extension": ".py",
   "mimetype": "text/x-python",
   "name": "python",
   "nbconvert_exporter": "python",
   "pygments_lexer": "ipython3",
   "version": "3.9.12"
  }
 },
 "nbformat": 4,
 "nbformat_minor": 5
}
